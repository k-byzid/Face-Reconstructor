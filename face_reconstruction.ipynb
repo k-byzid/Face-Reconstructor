{
 "cells": [
  {
   "cell_type": "code",
   "execution_count": 1,
   "id": "f6500fd5-1772-40a1-99d9-57746eb20970",
   "metadata": {},
   "outputs": [],
   "source": [
    "import cv2\n",
    "import numpy as np\n",
    "import mediapipe as mp\n",
    "from scipy.spatial import Delaunay\n",
    "from utils.landmarker import facial_landmarker\n",
    "from utils.video_handler import video_processor"
   ]
  },
  {
   "cell_type": "code",
   "execution_count": 2,
   "id": "6783265f-c4ce-4599-84b5-3bdbfb4d95d9",
   "metadata": {},
   "outputs": [],
   "source": [
    "input_path = 'assets/example_video_2.mp4'\n",
    "output_path = 'results/processed_example_video_2.mp4'\n",
    "\n",
    "vp = video_processor()\n",
    "fl = facial_landmarker()\n",
    "image_list = vp.preprocess_video(input_path)\n",
    "processed_image_list = []\n",
    "\n",
    "for i in range(len(image_list)):\n",
    "    processed_landmarks = fl.get_landmarks(image_list[i], 2)\n",
    "    processed_image = fl.facial_segmentation(image_list[i], processed_landmarks)\n",
    "    processed_image_list.append(processed_image)\n",
    "\n",
    "vp.video_stitch(processed_image_list, output_path, fps = 25)"
   ]
  }
 ],
 "metadata": {
  "kernelspec": {
   "display_name": "landmark",
   "language": "python",
   "name": "landmark"
  },
  "language_info": {
   "codemirror_mode": {
    "name": "ipython",
    "version": 3
   },
   "file_extension": ".py",
   "mimetype": "text/x-python",
   "name": "python",
   "nbconvert_exporter": "python",
   "pygments_lexer": "ipython3",
   "version": "3.10.9"
  }
 },
 "nbformat": 4,
 "nbformat_minor": 5
}
